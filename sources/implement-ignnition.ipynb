{
 "cells": [
  {
   "cell_type": "code",
   "execution_count": null,
   "id": "2f7f22cc-52f1-49e7-87d9-d00361cdf9f8",
   "metadata": {},
   "outputs": [],
   "source": [
    "print('hello')"
   ]
  },
  {
   "cell_type": "code",
   "execution_count": 4,
   "id": "83d7d600-00d2-4859-be6f-4663fcbeda4c",
   "metadata": {},
   "outputs": [
    {
     "name": "stdout",
     "output_type": "stream",
     "text": [
      "--2022-01-09 20:29:39--  https://github.com/knowledgedefinednetworking/ignnition\n",
      "Resolving github.com (github.com)... 140.82.113.4\n",
      "Connecting to github.com (github.com)|140.82.113.4|:443... connected.\n",
      "HTTP request sent, awaiting response... 301 Moved Permanently\n",
      "Location: https://github.com/BNN-UPC/ignnition [following]\n",
      "--2022-01-09 20:29:40--  https://github.com/BNN-UPC/ignnition\n",
      "Reusing existing connection to github.com:443.\n",
      "HTTP request sent, awaiting response... 200 OK\n",
      "Length: unspecified [text/html]\n",
      "Saving to: 'ignnition'\n",
      "\n",
      "ignnition               [ <=>                ] 225.32K  --.-KB/s    in 0.05s   \n",
      "\n",
      "2022-01-09 20:29:40 (4.66 MB/s) - 'ignnition' saved [230724]\n",
      "\n"
     ]
    }
   ],
   "source": [
    "!wget 'https://github.com/knowledgedefinednetworking/ignnition'"
   ]
  },
  {
   "cell_type": "code",
   "execution_count": 10,
   "id": "f36ff00a-4a38-45e2-855c-a5208d59f596",
   "metadata": {},
   "outputs": [],
   "source": [
    "path = '/home/studio-lab-user/implement-ignnition/sources/'"
   ]
  },
  {
   "cell_type": "code",
   "execution_count": 8,
   "id": "8c9accca-67c2-4867-a42c-dd5e199ef39d",
   "metadata": {},
   "outputs": [
    {
     "name": "stdout",
     "output_type": "stream",
     "text": [
      "Requirement already satisfied: unzip in /home/studio-lab-user/.conda/envs/default/lib/python3.9/site-packages (1.0.0)\n"
     ]
    }
   ],
   "source": [
    "!pip install unzip"
   ]
  },
  {
   "cell_type": "code",
   "execution_count": 11,
   "id": "9aeb9dcc-739c-4509-a21c-d1069867cee0",
   "metadata": {},
   "outputs": [],
   "source": [
    "import zipfile\n",
    "with zipfile.ZipFile(path + 'ignnition-main.zip', 'r') as zip_ref:\n",
    "    zip_ref.extractall(path)\n"
   ]
  },
  {
   "cell_type": "code",
   "execution_count": null,
   "id": "f9b7fd52-97f9-4830-b481-3618fe3b34ed",
   "metadata": {},
   "outputs": [],
   "source": []
  }
 ],
 "metadata": {
  "kernelspec": {
   "display_name": "default:Python",
   "language": "python",
   "name": "conda-env-default-py"
  },
  "language_info": {
   "codemirror_mode": {
    "name": "ipython",
    "version": 3
   },
   "file_extension": ".py",
   "mimetype": "text/x-python",
   "name": "python",
   "nbconvert_exporter": "python",
   "pygments_lexer": "ipython3",
   "version": "3.9.7"
  }
 },
 "nbformat": 4,
 "nbformat_minor": 5
}
